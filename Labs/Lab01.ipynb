{
 "cells": [
  {
   "cell_type": "markdown",
   "metadata": {},
   "source": [
    "# Lab 01 - Install C++ and first program\n",
    "### Author: Thang Nguyen | https://thangdn.com\n",
    "## I. How to install C++ compiler\n",
    "Follow these steps to install it:\n",
    "- Enter the following commands from a command prompt:\n",
    "    - <b>sudo apt-get update</b>\n",
    "    - <b>sudo apt-get install g++</b>\n",
    "- Enter <b>g++ --version</b> from a command prompt to check g++ version."
   ]
  },
  {
   "cell_type": "markdown",
   "metadata": {},
   "source": [
    "## II. First program in C++\n",
    "You can use **nano** or **gedit** or **subl** or etc command to write the codes.\n",
    "### II.1 C++ program : Hello World\n",
    "Write the codes to print \"hello world\" on screen.\n",
    "In C++ language, To import a library you use **#include**\n",
    "\n",
    "And **iostream** library is abbreviated input-output stream. It allows program to output data to the screen\n"
   ]
  },
  {
   "cell_type": "code",
   "execution_count": 2,
   "metadata": {},
   "outputs": [
    {
     "name": "stdout",
     "output_type": "stream",
     "text": [
      "Welcome to CS121!"
     ]
    }
   ],
   "source": [
    "#include <iostream> \n",
    "using namespace std;\n",
    "\n",
    "cout<<\"Welcome to CS121!\";"
   ]
  },
  {
   "cell_type": "markdown",
   "metadata": {},
   "source": [
    "In C++, to use string data-type, you need to import string library"
   ]
  },
  {
   "cell_type": "code",
   "execution_count": 4,
   "metadata": {},
   "outputs": [
    {
     "name": "stdout",
     "output_type": "stream",
     "text": [
      "Nguyen Duc Thang"
     ]
    }
   ],
   "source": [
    "#include <string>\n",
    "string name = \"Nguyen Duc Thang\";\n",
    "cout<<name;"
   ]
  },
  {
   "cell_type": "markdown",
   "metadata": {},
   "source": [
    "In c++, // is used to comment a single line\n",
    "\n",
    "**Example:**"
   ]
  },
  {
   "cell_type": "code",
   "execution_count": 6,
   "metadata": {},
   "outputs": [],
   "source": [
    "// cout<<\"Hi, everyone!\";"
   ]
  },
  {
   "cell_type": "markdown",
   "metadata": {},
   "source": [
    "And use a pair of /\\*...\\*/ to comment multi-line \n",
    "\n",
    "**Example:**"
   ]
  },
  {
   "cell_type": "code",
   "execution_count": 7,
   "metadata": {},
   "outputs": [],
   "source": [
    "/*\n",
    "#include <iostream> \n",
    "using namespace std;\n",
    "\n",
    "cout<<\"Welcome to CS121!\";\n",
    "*/"
   ]
  },
  {
   "cell_type": "markdown",
   "metadata": {},
   "source": []
  },
  {
   "cell_type": "markdown",
   "metadata": {},
   "source": [
    "### II.2 Arithmetic operators\n"
   ]
  },
  {
   "cell_type": "markdown",
   "metadata": {},
   "source": [
    "### II.3 Control - flow "
   ]
  },
  {
   "cell_type": "code",
   "execution_count": 8,
   "metadata": {},
   "outputs": [
    {
     "name": "stdout",
     "output_type": "stream",
     "text": [
      "55"
     ]
    }
   ],
   "source": [
    "int sum = 0;\n",
    "int i = 1;\n",
    "while (i <= 10)\n",
    "{\n",
    "    sum += i;\n",
    "    i++;\n",
    "}\n",
    "cout<<sum;"
   ]
  },
  {
   "cell_type": "code",
   "execution_count": 4,
   "metadata": {},
   "outputs": [
    {
     "name": "stdout",
     "output_type": "stream",
     "text": [
      "sum = 55"
     ]
    }
   ],
   "source": [
    "int sum = 0;\n",
    "for(int i= 1;i<= 10;i++)\n",
    "{\n",
    "    // this is the statements\n",
    "    sum += i;\n",
    "}\n",
    "cout<<\"sum = \"<<sum;"
   ]
  },
  {
   "cell_type": "code",
   "execution_count": 5,
   "metadata": {},
   "outputs": [
    {
     "name": "stdout",
     "output_type": "stream",
     "text": [
      "The number of n in name is 3"
     ]
    }
   ],
   "source": [
    "int counter = 0;\n",
    "string name = \"Nguyen Duc Thang\"\n",
    "for(int i = 0; i< name.length();i++)\n",
    "{\n",
    "    if(name[i] == 'n' || name[i] == 'N')\n",
    "    {\n",
    "        counter ++;\n",
    "    }\n",
    "}\n",
    "cout<<\"The number of n in name is \"<<counter;"
   ]
  },
  {
   "cell_type": "code",
   "execution_count": 6,
   "metadata": {},
   "outputs": [
    {
     "name": "stdout",
     "output_type": "stream",
     "text": [
      "29 days"
     ]
    }
   ],
   "source": [
    "int year = 2020;\n",
    "int month = 2;\n",
    "switch(month)\n",
    "{\n",
    "    case 1:\n",
    "    case 3:\n",
    "    case 5:\n",
    "    case 7:\n",
    "    case 8:\n",
    "    case 10:\n",
    "    case 12:\n",
    "        cout<<\"31 days\";\n",
    "        break;\n",
    "    case 4:case 6:case 9:case 11:\n",
    "        cout<<\"30 days\";\n",
    "        break;\n",
    "    case 2:\n",
    "        if ((year % 4 == 0 && year % 100 != 0)|| (year % 400 ==0))\n",
    "        {\n",
    "            cout<<\"29 days\";\n",
    "        }\n",
    "        else\n",
    "        {\n",
    "            cout<<\"28 days\";\n",
    "        } \n",
    "        break;\n",
    "    default:\n",
    "        cout<<\"Error\";\n",
    "        \n",
    "}"
   ]
  },
  {
   "cell_type": "code",
   "execution_count": null,
   "metadata": {},
   "outputs": [],
   "source": []
  }
 ],
 "metadata": {
  "kernelspec": {
   "display_name": "xeus C++11",
   "language": "",
   "name": "xeus-cling-cpp11"
  },
  "language_info": {
   "codemirror_mode": "text/x-c++src",
   "file_extension": ".cpp",
   "mimetype": "text/x-c++src",
   "name": "c++",
   "version": ""
  }
 },
 "nbformat": 4,
 "nbformat_minor": 2
}
